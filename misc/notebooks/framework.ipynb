{
 "cells": [
  {
   "cell_type": "code",
   "execution_count": 1,
   "metadata": {},
   "outputs": [
    {
     "name": "stdout",
     "output_type": "stream",
     "text": [
      "Contract: Marketplace\n",
      "\tBlock number: 6605100\n",
      "\t1458 transactions retrieved\n",
      "\tBlock number: 6618079\n",
      "\t1 transactions retrieved\n",
      "Contract: Kitties\n",
      "\tBlock number: 6605100\n",
      "\t7826 transactions retrieved\n",
      "\tBlock number: 6618097\n",
      "\t1 transactions retrieved\n"
     ]
    }
   ],
   "source": [
    "import sys\n",
    "sys.path.insert(0, '../scripts/')\n",
    "\n",
    "from transactions import get_transactions\n",
    "from utils import export_dictionary\n",
    "\n",
    "\n",
    "LAND = {\"name\": \"LAND\", \"txs_contract\": \"0xf87e31492faf9a91b02ee0deaad50d51d56d5d4d\",\n",
    "        \"abi_contract\": \"0xa57e126b341b18c262ad25b86bb4f65b5e2ade45\"}\n",
    "ESTATE = {\"name\": \"ESTATE\", \"txs_contract\": \"0x959e104e1a4db6317fa58f8295f586e1a978c297\",\n",
    "          \"abi_contract\": \"0x1784ef41af86e97f8d28afe95b573a24aeda966e\"}\n",
    "LAND_MARKETPLACE = {\"name\": \"Marketplace\", \"txs_contract\": \"0x8e5660b4ab70168b5a6feea0e0315cb49c8cd539\",\n",
    "                    \"abi_contract\": \"0x19a8ed4860007a66805782ed7e0bed4e44fc6717\"}\n",
    "\n",
    "KITTY = {\"name\": \"Kitties\", \"txs_contract\": \"0x06012c8cf97bead5deae237070f9587f8e7a266d\",\n",
    "                     \"abi_contract\": \"0x06012c8cf97bead5deae237070f9587f8e7a266d\"}\n",
    "KITTY_MARKETPLACE = {\"name\": \"Marketplace\", \"txs_contract\": \"0xb1690c08e213a35ed9bab7b318de14420fb57d8c\",\n",
    "         \"abi_contract\": \"0xb1690c08e213a35ed9bab7b318de14420fb57d8c\"}\n",
    "\n",
    "# LAND one year block 12322265\n",
    "\n",
    "txs = get_transactions(contracts=[KITTY_MARKETPLACE, KITTY], start_block=6605100, end_block=6618100)\n",
    "\n",
    "filename = \"cryptokitties_everyday\"\n",
    "\n",
    "export_dictionary(txs, \"../data/transactions\", filename)"
   ]
  },
  {
   "cell_type": "code",
   "execution_count": 2,
   "metadata": {},
   "outputs": [
    {
     "name": "stdout",
     "output_type": "stream",
     "text": [
      "<class 'pandas.core.frame.DataFrame'>\n",
      "Int64Index: 9088 entries, 0 to 9087\n",
      "Data columns (total 18 columns):\n",
      " #   Column                  Non-Null Count  Dtype \n",
      "---  ------                  --------------  ----- \n",
      " 0   timeStamp               9088 non-null   object\n",
      " 1   hash                    9088 non-null   object\n",
      " 2   transactionIndex        9088 non-null   object\n",
      " 3   from                    9088 non-null   object\n",
      " 4   to                      9088 non-null   object\n",
      " 5   functionName            9088 non-null   object\n",
      " 6   inputFunctionName       9088 non-null   object\n",
      " 7   Marketplace__tokenId    1389 non-null   object\n",
      " 8   inputFunctionParams     9088 non-null   object\n",
      " 9   Kitties__matronId       5109 non-null   object\n",
      " 10  Kitties__sireId         5109 non-null   object\n",
      " 11  Kitties__kittyId        1895 non-null   object\n",
      " 12  Kitties__startingPrice  1895 non-null   object\n",
      " 13  Kitties__endingPrice    1895 non-null   object\n",
      " 14  Kitties__duration       1895 non-null   object\n",
      " 15  Kitties__genes          201 non-null    object\n",
      " 16  Kitties__to             494 non-null    object\n",
      " 17  Kitties__tokenId        494 non-null    object\n",
      "dtypes: object(18)\n",
      "memory usage: 1.3+ MB\n"
     ]
    }
   ],
   "source": [
    "import pandas as pd\n",
    "from traces import clean_df\n",
    "\n",
    "df = pd.DataFrame(txs) if txs else pd.read_json(f\"../data/transactions{filename}.json\")\n",
    "\n",
    "df = clean_df(df)\n",
    "\n",
    "df.info()"
   ]
  },
  {
   "cell_type": "markdown",
   "metadata": {},
   "source": [
    "When we have more than one contract, it can happen that we would like to rename some attributes that represents the same data with the same name. This way, we can use the new attribute name to group events in traces. An example are `Kitties_kittyId` and `Marketplace_tokenId` which represents the same value."
   ]
  },
  {
   "cell_type": "code",
   "execution_count": null,
   "metadata": {},
   "outputs": [],
   "source": [
    "r_df = df.rename(columns={'Marketplace__tokenId': 'Kitties__kittyId'}) #rename marketplace_tokenId to Kitties_kittyId\n",
    "\n",
    "r_df.info()"
   ]
  },
  {
   "cell_type": "code",
   "execution_count": null,
   "metadata": {},
   "outputs": [],
   "source": [
    "def sjoin(x): return ';'.join(x[x.notnull()].astype(object))\n",
    "\n",
    "r_df = r_df.groupby(level=0, axis=1).apply(lambda x: x.apply(sjoin, axis=1))\n",
    "\n",
    "r_df.info()"
   ]
  },
  {
   "cell_type": "code",
   "execution_count": null,
   "metadata": {},
   "outputs": [],
   "source": [
    "from traces import sort_df, generate_xes\n",
    "\n",
    "r_df = sort_df(r_df, columns=['timeStamp', 'transactionIndex'])\n",
    "\n",
    "generate_xes(r_df, filename, case_concept_name=\"Kitties__kittyId\", concept_name=\"inputFunctionName\")\n"
   ]
  }
 ],
 "metadata": {
  "kernelspec": {
   "display_name": "Python 3.10.4 64-bit",
   "language": "python",
   "name": "python3"
  },
  "language_info": {
   "codemirror_mode": {
    "name": "ipython",
    "version": 3
   },
   "file_extension": ".py",
   "mimetype": "text/x-python",
   "name": "python",
   "nbconvert_exporter": "python",
   "pygments_lexer": "ipython3",
   "version": "3.10.4 (tags/v3.10.4:9d38120, Mar 23 2022, 23:13:41) [MSC v.1929 64 bit (AMD64)]"
  },
  "orig_nbformat": 4,
  "vscode": {
   "interpreter": {
    "hash": "1527373efda72fa2755c1bf8e28aa37d44fcfaa765722a53896873e9ccde169f"
   }
  }
 },
 "nbformat": 4,
 "nbformat_minor": 2
}
