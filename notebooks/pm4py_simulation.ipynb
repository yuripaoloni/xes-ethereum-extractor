{
 "cells": [
  {
   "cell_type": "code",
   "execution_count": null,
   "metadata": {},
   "outputs": [],
   "source": [
    "import pm4py\n",
    "import sys\n",
    "sys.path.insert(0, '../scripts/')\n",
    "from utils import print_stats\n",
    "from pm4py.objects.log.exporter.xes import exporter as xes_exporter\n",
    "from pm4py.algo.simulation.playout.petri_net import algorithm as simulator\n",
    "\n",
    "\n",
    "log = pm4py.read_xes(\n",
    "    '../data/logs/transaction_methods/one_year_land_proxy_txs.xes')\n",
    "\n",
    "print_stats(log)\n",
    "\n",
    "bpmn_graph = pm4py.read_bpmn(\n",
    "    \"../data/models/transaction_methods/one_year/one_year_land_proxy_IMf.bpmn\")\n",
    "\n",
    "net, im, fm = pm4py.convert_to_petri_net(bpmn_graph)\n",
    "\n",
    "# net,im,fm = pm4py.read_pnml(\"../data/models/transaction_methods/full_land/full_land_proxy_heuristic_default.pnml\")\n"
   ]
  },
  {
   "cell_type": "markdown",
   "metadata": {},
   "source": [
    "**Playout of a Petri Net**: Takes as input a Petri net along with an initial marking, and returns a list of process executions that are allowed from the process model. Two types of playout:\n",
    "\n",
    "- _Variants.BASIC_PLAYOUT_: A basic playout that accepts a Petri net along with an initial marking, and returns a specified number of process executions (repetitions may be possible)."
   ]
  },
  {
   "cell_type": "code",
   "execution_count": null,
   "metadata": {},
   "outputs": [],
   "source": [
    "\n",
    "# optional. Specify number of traces and max trace length\n",
    "basic_parameters = {simulator.Variants.BASIC_PLAYOUT.value.Parameters.NO_TRACES: 50,\n",
    "                    simulator.Variants.BASIC_PLAYOUT.value.Parameters.MAX_TRACE_LENGTH: 7}\n",
    "\n",
    "basic_playout_log = simulator.apply(\n",
    "    net, im, variant=simulator.Variants.BASIC_PLAYOUT, parameters=basic_parameters)\n",
    "\n",
    "xes_exporter.apply(basic_playout_log, f\"../data/logs/pn_basic_simulation.xes\")"
   ]
  },
  {
   "cell_type": "markdown",
   "metadata": {},
   "source": [
    "- _Variants.EXTENSIVE_: A playout that accepts a Petri net along with an initial marking, and returns all the executions that are possible according to the model, up to a provided length of trace (may be computationally expensive)."
   ]
  },
  {
   "cell_type": "code",
   "execution_count": null,
   "metadata": {},
   "outputs": [],
   "source": [
    "# optional. Specify max trace length\n",
    "extensive_parameters = {simulator.Variants.EXTENSIVE.value.Parameters.MAX_TRACE_LENGTH: 7}\n",
    "extensive_log = simulator.apply(net, im, variant=simulator.Variants.EXTENSIVE, parameters=extensive_parameters)\n",
    "\n",
    "xes_exporter.apply(extensive_log, f\"../data/logs/pn_extensive_simulation.xes\")"
   ]
  },
  {
   "cell_type": "markdown",
   "metadata": {},
   "source": [
    "**Extensive playout of a process tree**: doing an extensive playout of Petri Nets can be really expensive. Process Tree permits to obtain the entire language of an event log in a much easier way. However, we need to specify some parameters: max number of occurrences for a loop, max length of a trace to be returned, max number of traces to be returned.\n",
    "Reasonable settings are: max number of traces to 100000, max length of traces by default are set to the minimum length of a trace accepted by a process tree, and the max number of loops is set to be the minimum length of a trace divided by two.\n"
   ]
  },
  {
   "cell_type": "code",
   "execution_count": null,
   "metadata": {},
   "outputs": [],
   "source": [
    "from pm4py.algo.discovery.inductive import algorithm as inductive_miner\n",
    "from pm4py.algo.simulation.playout.process_tree import algorithm as tree_playout\n",
    "\n",
    "tree = inductive_miner.apply_tree(\n",
    "    log, variant=inductive_miner.Variants.IMf)\n",
    "\n",
    "playout_variant = tree_playout.Variants.EXTENSIVE\n",
    "param = tree_playout.Variants.EXTENSIVE.value.Parameters\n",
    "\n",
    "simulated_log = tree_playout.apply(tree, variant=playout_variant,\n",
    "                                   parameters={param.MAX_TRACE_LENGTH: 20, param.MAX_LIMIT_NUM_TRACES: 100000})\n",
    "\n",
    "xes_exporter.apply(simulated_log, f\"../data/logs/pt_extensive_simulation.xes\")"
   ]
  }
 ],
 "metadata": {
  "kernelspec": {
   "display_name": "Python 3.10.4 64-bit",
   "language": "python",
   "name": "python3"
  },
  "language_info": {
   "codemirror_mode": {
    "name": "ipython",
    "version": 3
   },
   "file_extension": ".py",
   "mimetype": "text/x-python",
   "name": "python",
   "nbconvert_exporter": "python",
   "pygments_lexer": "ipython3",
   "version": "3.10.4"
  },
  "orig_nbformat": 4,
  "vscode": {
   "interpreter": {
    "hash": "1527373efda72fa2755c1bf8e28aa37d44fcfaa765722a53896873e9ccde169f"
   }
  }
 },
 "nbformat": 4,
 "nbformat_minor": 2
}
