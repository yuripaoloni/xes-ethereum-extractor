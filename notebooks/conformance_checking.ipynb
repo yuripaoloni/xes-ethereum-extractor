{
 "cells": [
  {
   "cell_type": "code",
   "execution_count": null,
   "metadata": {},
   "outputs": [],
   "source": [
    "import pm4py\n",
    "import sys\n",
    "sys.path.insert(0, '../scripts/')\n",
    "\n",
    "from utils import print_stats\n",
    "\n",
    "log = pm4py.read_xes('../data/logs/transaction_methods/full_land_proxy_transactions.xes')\n",
    "\n",
    "print_stats(log)\n",
    "\n",
    "bpmn_graph = pm4py.read_bpmn(\"../data/models/transaction_methods/full_land/full_land_proxy_IMf.bpmn\")\n",
    "\n",
    "net, im, fm = pm4py.convert_to_petri_net(bpmn_graph)\n",
    "\n",
    "# net,im,fm = pm4py.read_pnml(\"../data/models/transaction_methods/full_land/full_land_proxy_heuristic_default.pnml\")"
   ]
  },
  {
   "cell_type": "code",
   "execution_count": 51,
   "metadata": {},
   "outputs": [],
   "source": [
    "token_fitness = pm4py.fitness_token_based_replay(log, net, im, fm)\n",
    "print(\"Token-based fitness: \")\n",
    "print(token_fitness)\n",
    "\n",
    "token_prec = pm4py.precision_token_based_replay(log, net, im, fm)\n",
    "print(f\"Token-based precision: {token_prec}\")\n"
   ]
  },
  {
   "cell_type": "code",
   "execution_count": 48,
   "metadata": {},
   "outputs": [],
   "source": [
    "# align_fitness = pm4py.fitness_alignments(log, net, im, fm)\n",
    "# print(\"Alignment-based fitness: \")\n",
    "# print(align_fitness)\n",
    "\n",
    "# align_prec = pm4py.precision_alignments(log, net, im, fm)\n",
    "# print(f\"Alignment-based precision: {align_prec}\")"
   ]
  },
  {
   "cell_type": "code",
   "execution_count": null,
   "metadata": {},
   "outputs": [],
   "source": [
    "from pm4py.algo.evaluation.generalization import algorithm as generalization_evaluator\n",
    "\n",
    "gen = generalization_evaluator.apply(log, net, im, fm)\n",
    "\n",
    "print(f\"Generalization: {gen}\")"
   ]
  },
  {
   "cell_type": "code",
   "execution_count": null,
   "metadata": {},
   "outputs": [],
   "source": [
    "from pm4py.algo.evaluation.simplicity import algorithm as simplicity_evaluator\n",
    "\n",
    "simp = simplicity_evaluator.apply(net)\n",
    "\n",
    "print(f\"Simplicity: {simp}\")"
   ]
  }
 ],
 "metadata": {
  "kernelspec": {
   "display_name": "Python 3.10.4 64-bit",
   "language": "python",
   "name": "python3"
  },
  "language_info": {
   "codemirror_mode": {
    "name": "ipython",
    "version": 3
   },
   "file_extension": ".py",
   "mimetype": "text/x-python",
   "name": "python",
   "nbconvert_exporter": "python",
   "pygments_lexer": "ipython3",
   "version": "3.10.4"
  },
  "orig_nbformat": 4,
  "vscode": {
   "interpreter": {
    "hash": "1527373efda72fa2755c1bf8e28aa37d44fcfaa765722a53896873e9ccde169f"
   }
  }
 },
 "nbformat": 4,
 "nbformat_minor": 2
}
