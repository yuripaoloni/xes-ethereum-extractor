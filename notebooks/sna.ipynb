{
 "cells": [
  {
   "cell_type": "code",
   "execution_count": null,
   "metadata": {},
   "outputs": [],
   "source": [
    "import sys\n",
    "sys.path.insert(0, '../scripts/')\n",
    "\n",
    "from pathlib import Path\n",
    "from pm4py.objects.log.importer.xes import importer as xes_importer\n",
    "from pm4py.visualization.sna import visualizer as sna_visualizer\n",
    "from pm4py.algo.organizational_mining.sna import util, algorithm as sna\n",
    "from utils import export_dictionary\n",
    "\n",
    "file_name = \"../data/logs\"\n",
    "\n",
    "log = xes_importer.apply(file_name)"
   ]
  },
  {
   "cell_type": "code",
   "execution_count": null,
   "metadata": {},
   "outputs": [],
   "source": [
    "# HANDOVER OF WORK: how many times an individual is followed by another individual in the execution of a business process\n",
    "hw_values = sna.apply(log, variant=sna.Variants.HANDOVER_LOG)\n",
    "gviz_hw_py = sna_visualizer.apply(\n",
    "    hw_values, variant=sna_visualizer.Variants.PYVIS)\n",
    "sna_visualizer.view(gviz_hw_py, variant=sna_visualizer.Variants.PYVIS)"
   ]
  },
  {
   "cell_type": "code",
   "execution_count": null,
   "metadata": {},
   "outputs": [],
   "source": [
    "# SUBCONTRACTING: how many times the work of an individual is interleaved by the work of some other individual, only to eventually “return” to the original individual\n",
    "sub_values = sna.apply(log, variant=sna.Variants.SUBCONTRACTING_LOG)\n",
    "gviz_sub_py = sna_visualizer.apply(\n",
    "    sub_values, variant=sna_visualizer.Variants.PYVIS)\n",
    "sna_visualizer.view(gviz_sub_py, variant=sna_visualizer.Variants.PYVIS)"
   ]
  },
  {
   "cell_type": "code",
   "execution_count": null,
   "metadata": {},
   "outputs": [],
   "source": [
    "# WORKING TOGETHER: how many times two individuals work together for resolving a process instance\n",
    "wt_values = sna.apply(log, variant=sna.Variants.WORKING_TOGETHER_LOG)\n",
    "gviz_wt_py = sna_visualizer.apply(\n",
    "    wt_values, variant=sna_visualizer.Variants.PYVIS)\n",
    "sna_visualizer.view(gviz_wt_py, variant=sna_visualizer.Variants.PYVIS)"
   ]
  },
  {
   "cell_type": "code",
   "execution_count": null,
   "metadata": {},
   "outputs": [],
   "source": [
    "# SIMILAR ACTIVITIES: how much similar is the work pattern between two individuals\n",
    "ja_values = sna.apply(log, variant=sna.Variants.JOINTACTIVITIES_LOG)\n",
    "gviz_ja_py = sna_visualizer.apply(\n",
    "    ja_values, variant=sna_visualizer.Variants.PYVIS)\n",
    "sna_visualizer.view(gviz_ja_py, variant=sna_visualizer.Variants.PYVIS)"
   ]
  },
  {
   "cell_type": "code",
   "execution_count": null,
   "metadata": {},
   "outputs": [],
   "source": [
    "# CLUSTERING: group the resources that are connected by a meaningful connection in the given metric\n",
    "variant = sna.Variants.HANDOVER_LOG  # specify the metric here\n",
    "sa_metric = sna.apply(log, variant=variant)\n",
    "clustering = util.cluster_affinity_propagation(sa_metric)\n",
    "export_dictionary(clustering, \"data/sna\",\n",
    "                    f\"{variant.name}_clustering_{Path(file_name).name}\")"
   ]
  },
  {
   "cell_type": "code",
   "execution_count": null,
   "metadata": {},
   "outputs": [],
   "source": [
    "from pm4py.algo.organizational_mining.resource_profiles import profiles\n",
    "\n",
    "# RESOURCE PROFILE: specify the resources and the time interval\n",
    "start_timestamp = \"2010-12-30 00:00:00\"\n",
    "end_timestamp = \"2011-01-25 00:00:00\"\n",
    "# Metric RBI 1.1: Number of distinct activities done by a resource in a given time interval [t1, t2)\n",
    "print(profiles.distinct_activities(\n",
    "    log, start_timestamp, end_timestamp, \"Sara\"))\n",
    "# Metric RBI 1.3: Fraction of completions of a given activity a, by a given resource r,\n",
    "# during a given time slot, [t1, t2), with respect to the total number of activity completions by resource r\n",
    "# during [t1, t2)\n",
    "print(profiles.activity_frequency(log, start_timestamp,\n",
    "        end_timestamp, \"Sara\", \"decide\"))\n",
    "# Metric RBI 2.1: The number of activity instances completed by a given resource during a given time slot.\n",
    "print(profiles.activity_completions(\n",
    "    log, start_timestamp, end_timestamp, \"Sara\"))\n",
    "# Metric RBI 2.2: The number of cases completed during a given time slot in which a given resource was involved.\n",
    "print(profiles.case_completions(\n",
    "    log, start_timestamp, end_timestamp, \"Pete\"))\n",
    "# Metric RBI 2.3: The fraction of cases completed during a given time slot in which a given resource was involved\n",
    "# with respect to the total number of cases completed during the time slot.\n",
    "print(profiles.fraction_case_completions(\n",
    "    log, start_timestamp, end_timestamp, \"Pete\"))\n",
    "# Metric RBI 2.4: The average number of activities started by a given resource but not completed at a moment in time.\n",
    "print(profiles.average_workload(\n",
    "    log, start_timestamp, \"2011-01-15 00:00:00\", \"Mike\"))\n",
    "# Metric RBI 3.1: The fraction of active time during which a given resource is involved in more than one activity\n",
    "# with respect to the resource's active time.\n",
    "print(profiles.multitasking(\n",
    "    log, start_timestamp, end_timestamp, \"Mike\"))\n",
    "# Metric RBI 4.3: The average duration of instances of a given activity completed during a given time slot by\n",
    "# a given resource.\n",
    "print(profiles.average_duration_activity(log, start_timestamp,\n",
    "        end_timestamp, \"Sue\", \"examine thoroughly\"))\n",
    "# Metric RBI 4.4: The average duration of cases completed during a given time slot in which a given resource was involved.\n",
    "print(profiles.average_case_duration(\n",
    "    log, start_timestamp, end_timestamp, \"Sue\"))\n",
    "# Metric RBI 5.1: The number of cases completed during a given time slot in which two given resources were involved.\n",
    "print(profiles.interaction_two_resources(\n",
    "    log, start_timestamp, end_timestamp, \"Mike\", \"Pete\"))\n",
    "# Metric RBI 5.2: The fraction of resources involved in the same cases with a given resource during a given time slot\n",
    "# with respect to the total number of resources active during the time slot.\n",
    "print(profiles.social_position(\n",
    "    log, start_timestamp, end_timestamp, \"Sue\"))"
   ]
  }
 ],
 "metadata": {
  "language_info": {
   "name": "python"
  },
  "orig_nbformat": 4
 },
 "nbformat": 4,
 "nbformat_minor": 2
}
