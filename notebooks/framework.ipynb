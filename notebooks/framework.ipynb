{
 "cells": [
  {
   "cell_type": "code",
   "execution_count": 1,
   "metadata": {},
   "outputs": [
    {
     "name": "stdout",
     "output_type": "stream",
     "text": [
      "Contract: Marketplace\n",
      "\tBlock number: 6605431\n",
      "\t1 transactions retrieved\n"
     ]
    },
    {
     "data": {
      "text/plain": [
       "'0xb091bd35e91ef65420e9978d400f7393ed4597221436027365c45fcf5d00fce3'"
      ]
     },
     "metadata": {},
     "output_type": "display_data"
    },
    {
     "data": {
      "text/plain": [
       "'in'"
      ]
     },
     "metadata": {},
     "output_type": "display_data"
    },
    {
     "name": "stdout",
     "output_type": "stream",
     "text": [
      "Contract: Kitties\n",
      "\tBlock number: 6605431\n",
      "\t4 transactions retrieved\n"
     ]
    },
    {
     "data": {
      "text/plain": [
       "'0x8a411d976e534aeff5184698226ac702f29577dab4be681afe35b4b39d73ce1f'"
      ]
     },
     "metadata": {},
     "output_type": "display_data"
    },
    {
     "data": {
      "text/plain": [
       "'0x601174c6f0508330a26fc84b3de102b9ebdc557e5fcd7fb5483fd208710163b7'"
      ]
     },
     "metadata": {},
     "output_type": "display_data"
    },
    {
     "data": {
      "text/plain": [
       "'0x29b247d04cae4a5259134486dcdb02f96564212867792ba3d26ae5e9d9bfe7bd'"
      ]
     },
     "metadata": {},
     "output_type": "display_data"
    },
    {
     "data": {
      "text/plain": [
       "'0x5aea57af02bfea5ae973dd84402f367fc755e021ec617b67edb3ff42b10604ea'"
      ]
     },
     "metadata": {},
     "output_type": "display_data"
    },
    {
     "data": {
      "text/plain": [
       "'0x8a411d976e534aeff5184698226ac702f29577dab4be681afe35b4b39d73ce1f'"
      ]
     },
     "metadata": {},
     "output_type": "display_data"
    },
    {
     "name": "stdout",
     "output_type": "stream",
     "text": [
      "\tBlock number: 6605434\n",
      "\t1 transactions retrieved\n"
     ]
    },
    {
     "data": {
      "text/plain": [
       "'0x8a411d976e534aeff5184698226ac702f29577dab4be681afe35b4b39d73ce1f'"
      ]
     },
     "metadata": {},
     "output_type": "display_data"
    },
    {
     "data": {
      "text/plain": [
       "'in'"
      ]
     },
     "metadata": {},
     "output_type": "display_data"
    }
   ],
   "source": [
    "import sys\n",
    "sys.path.insert(0, '../scripts/')\n",
    "\n",
    "from transactions import get_transactions\n",
    "from utils import export_dictionary\n",
    "\n",
    "\n",
    "LAND = {\"name\": \"LAND\", \"txs_contract\": \"0xf87e31492faf9a91b02ee0deaad50d51d56d5d4d\",\n",
    "        \"abi_contract\": \"0xa57e126b341b18c262ad25b86bb4f65b5e2ade45\"}\n",
    "ESTATE = {\"name\": \"ESTATE\", \"txs_contract\": \"0x959e104e1a4db6317fa58f8295f586e1a978c297\",\n",
    "          \"abi_contract\": \"0x1784ef41af86e97f8d28afe95b573a24aeda966e\"}\n",
    "LAND_MARKETPLACE = {\"name\": \"Marketplace\", \"txs_contract\": \"0x8e5660b4ab70168b5a6feea0e0315cb49c8cd539\",\n",
    "                    \"abi_contract\": \"0x19a8ed4860007a66805782ed7e0bed4e44fc6717\"}\n",
    "\n",
    "KITTY = {\"name\": \"Kitties\", \"txs_contract\": \"0x06012c8cf97bead5deae237070f9587f8e7a266d\",\n",
    "                     \"abi_contract\": \"0x06012c8cf97bead5deae237070f9587f8e7a266d\"}\n",
    "KITTY_MARKETPLACE = {\"name\": \"Marketplace\", \"txs_contract\": \"0xb1690c08e213a35ed9bab7b318de14420fb57d8c\",\n",
    "         \"abi_contract\": \"0xb1690c08e213a35ed9bab7b318de14420fb57d8c\"}\n",
    "\n",
    "# LAND one year block 12322265\n",
    "\n",
    "# 6605100,6618100\n",
    "\n",
    "txs = get_transactions(contracts=[KITTY_MARKETPLACE, KITTY], start_block=6605100, end_block=6618100)\n",
    "\n",
    "filename = \"test\"\n",
    "\n",
    "export_dictionary(txs, \"../data/transactions\", filename)"
   ]
  },
  {
   "cell_type": "code",
   "execution_count": null,
   "metadata": {},
   "outputs": [],
   "source": [
    "import pandas as pd\n",
    "from traces import clean_df\n",
    "\n",
    "df = pd.DataFrame(txs) if txs else pd.read_json(f\"../data/transactions{filename}.json\")\n",
    "\n",
    "df = clean_df(df)\n",
    "\n",
    "df.info()\n",
    "\n",
    "df.head()"
   ]
  },
  {
   "cell_type": "code",
   "execution_count": null,
   "metadata": {},
   "outputs": [],
   "source": [
    "df.head()"
   ]
  },
  {
   "cell_type": "code",
   "execution_count": null,
   "metadata": {},
   "outputs": [],
   "source": [
    "r_df = df.rename(columns={'Marketplace__tokenId': 'Kitties__kittyId'})\n",
    "\n",
    "r_df.info()"
   ]
  },
  {
   "cell_type": "code",
   "execution_count": null,
   "metadata": {},
   "outputs": [],
   "source": [
    "def sjoin(x): return ';'.join(x[x.notnull()].astype(object))\n",
    "\n",
    "r_df = r_df.groupby(level=0, axis=1).apply(lambda x: x.apply(sjoin, axis=1))\n",
    "\n",
    "r_df.info()"
   ]
  },
  {
   "cell_type": "code",
   "execution_count": null,
   "metadata": {},
   "outputs": [],
   "source": [
    "from traces import sort_df, generate_xes\n",
    "\n",
    "r_df = sort_df(r_df, columns=['timeStamp', 'transactionIndex'])\n",
    "\n",
    "generate_xes(r_df, filename, case_concept_name=\"Kitties__kittyId\", concept_name=\"inputFunctionName\")\n"
   ]
  }
 ],
 "metadata": {
  "kernelspec": {
   "display_name": "Python 3.10.4 64-bit",
   "language": "python",
   "name": "python3"
  },
  "language_info": {
   "codemirror_mode": {
    "name": "ipython",
    "version": 3
   },
   "file_extension": ".py",
   "mimetype": "text/x-python",
   "name": "python",
   "nbconvert_exporter": "python",
   "pygments_lexer": "ipython3",
   "version": "3.10.4"
  },
  "orig_nbformat": 4,
  "vscode": {
   "interpreter": {
    "hash": "1527373efda72fa2755c1bf8e28aa37d44fcfaa765722a53896873e9ccde169f"
   }
  }
 },
 "nbformat": 4,
 "nbformat_minor": 2
}
